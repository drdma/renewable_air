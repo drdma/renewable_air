{
 "cells": [
  {
   "cell_type": "code",
   "execution_count": null,
   "metadata": {},
   "outputs": [],
   "source": [
    "import pandas as pd\n",
    "from matplotlib import pyplot as plt\n",
    "import seaborn as sns"
   ]
  },
  {
   "cell_type": "code",
   "execution_count": null,
   "metadata": {},
   "outputs": [],
   "source": [
    "# filepath = '/data/'\n",
    "# filename = 'EU_RenewableEng_Prod_05-16.csv'\n",
    "# df = pd.read_csv(filepath, filename)\n",
    "filename_path1 = '../data/EU_RenewableEng_Prod_05-16.csv'\n",
    "df1 = pd.read_csv(filename_path1)"
   ]
  },
  {
   "cell_type": "code",
   "execution_count": null,
   "metadata": {},
   "outputs": [],
   "source": [
    "df1.head()"
   ]
  },
  {
   "cell_type": "code",
   "execution_count": null,
   "metadata": {},
   "outputs": [],
   "source": [
    "filename_path2 = '../data/CO2Emm_Global_1970-16.csv'\n",
    "\n",
    "df2 = pd.read_csv(filename_path2)"
   ]
  },
  {
   "cell_type": "code",
   "execution_count": null,
   "metadata": {},
   "outputs": [],
   "source": [
    "df2.head()"
   ]
  },
  {
   "cell_type": "code",
   "execution_count": null,
   "metadata": {},
   "outputs": [],
   "source": [
    "df = pd.merge(df1, df2, how='left', left_on=['Country', 'Year'], right_on=['ISO_NAME', 'Year'])"
   ]
  },
  {
   "cell_type": "code",
   "execution_count": null,
   "metadata": {},
   "outputs": [],
   "source": [
    "df.head()"
   ]
  },
  {
   "cell_type": "code",
   "execution_count": null,
   "metadata": {},
   "outputs": [],
   "source": [
    "df.Country.unique()"
   ]
  },
  {
   "cell_type": "code",
   "execution_count": null,
   "metadata": {},
   "outputs": [],
   "source": [
    "df.ISO_NAME.unique()"
   ]
  },
  {
   "cell_type": "code",
   "execution_count": null,
   "metadata": {},
   "outputs": [],
   "source": [
    "df_Ireland = df.loc[(df['Country']=='Ireland') & (df['Product']=='Renewable energies')]"
   ]
  },
  {
   "cell_type": "code",
   "execution_count": null,
   "metadata": {},
   "outputs": [],
   "source": [
    "df_Ireland.head()"
   ]
  },
  {
   "cell_type": "code",
   "execution_count": null,
   "metadata": {},
   "outputs": [],
   "source": [
    "df_Ireland.Year.dtype\n"
   ]
  },
  {
   "cell_type": "code",
   "execution_count": null,
   "metadata": {},
   "outputs": [],
   "source": [
    "df_Ireland.Value.dtype"
   ]
  },
  {
   "cell_type": "code",
   "execution_count": null,
   "metadata": {},
   "outputs": [],
   "source": [
    "#dataframe is copy of a slice? correct error\n",
    "df_Ire = df_Ireland.copy()\n",
    "df_Ire['Value']= df_Ire.Value.apply(pd.to_numeric)\n",
    "df_Ire.head()\n"
   ]
  },
  {
   "cell_type": "code",
   "execution_count": null,
   "metadata": {},
   "outputs": [],
   "source": [
    "# sns.set_style(\"darkgrid\")\n",
    "# sns.set_palette(\"pastel\")\n",
    "\n",
    "# sns.lineplot(data=df_Ire, x='Year', y='Value' )\n",
    "# sns.lineplot(data=df_Ire, x='Year', y='CO2/cap' )"
   ]
  },
  {
   "cell_type": "code",
   "execution_count": null,
   "metadata": {},
   "outputs": [],
   "source": [
    "fig, ax1 = plt.subplots()\n",
    "color = 'tab:red'\n",
    "ax1.set_xlabel('Year')\n",
    "ax1.set_ylabel('Renewable energy generation', color=color)\n",
    "ax1.plot(df_Ire.Year, df_Ire.Value, color=color)\n",
    "ax1.tick_params(axis='y', labelcolor=color)\n",
    "\n",
    "color = 'tab:blue'\n",
    "ax2 = ax1.twinx()\n",
    "ax2.set_ylabel('CO2/capita', color=color)\n",
    "ax2.plot(df_Ire.Year, df_Ire['CO2/cap'], color=color)\n",
    "ax2.tick_params(axis='y', labelcolor=color)\n"
   ]
  },
  {
   "cell_type": "code",
   "execution_count": null,
   "metadata": {},
   "outputs": [],
   "source": [
    "#Ultimately, to create a prediction model that uses renewable energy generation to predict CO2 for countries that do not have CO2 information\n",
    "\n",
    "#Let's create the necessary dataframe\n",
    "# check column headings, keep only ones we want and adapt names, then plot graphs for every country\n",
    "\n",
    "df.columns \n"
   ]
  },
  {
   "cell_type": "code",
   "execution_count": null,
   "metadata": {},
   "outputs": [],
   "source": [
    "df = df.drop(['Units', 'Indicator', 'ISO_CODE', 'ISO_NAME'], axis=1)\n",
    "\n",
    "df.rename(columns={'Year':'year',\n",
    "                  'Country':'country',\n",
    "                  'Product':'renew_typ',\n",
    "                  'Value':'renew_ene',\n",
    "                  'GHG per capita emissions':'ghg',\n",
    "                  'CO2/cap':'co2'}, inplace='True')"
   ]
  },
  {
   "cell_type": "code",
   "execution_count": null,
   "metadata": {},
   "outputs": [],
   "source": [
    "df.head()"
   ]
  },
  {
   "cell_type": "code",
   "execution_count": null,
   "metadata": {},
   "outputs": [],
   "source": [
    "df.dtypes"
   ]
  },
  {
   "cell_type": "code",
   "execution_count": null,
   "metadata": {},
   "outputs": [],
   "source": [
    "df['renew_ene'] = pd.to_numeric(df.renew_ene, errors='coerce')\n",
    "df['renew_ene'] = df.renew_ene.apply(pd.to_numeric)"
   ]
  },
  {
   "cell_type": "code",
   "execution_count": null,
   "metadata": {},
   "outputs": [],
   "source": [
    "df.dtypes"
   ]
  },
  {
   "cell_type": "code",
   "execution_count": null,
   "metadata": {},
   "outputs": [],
   "source": [
    "renewabledf = df[df.co2.notnull()]"
   ]
  },
  {
   "cell_type": "code",
   "execution_count": null,
   "metadata": {},
   "outputs": [],
   "source": [
    "renew_countries = renewabledf.country.unique()\n"
   ]
  },
  {
   "cell_type": "code",
   "execution_count": null,
   "metadata": {},
   "outputs": [],
   "source": [
    "def two_yaxis(ax1, x, y1, y2, c1, c2, title):\n",
    "    ax2 = ax1.twinx()\n",
    "    ax1.plot(x, y1, color=c1)\n",
    "#     ax1.set_xlabel('Year')\n",
    "#     ax1.set_ylabel('renewable generation (TOE)')\n",
    "    ax1.set_title(title)\n",
    "    ax2.plot(x, y2, color=c2)\n",
    "#     ax2.set_ylabel('CO2/per capita')"
   ]
  },
  {
   "cell_type": "code",
   "execution_count": null,
   "metadata": {},
   "outputs": [],
   "source": [
    "ax = plt.subplot(2,1,1)\n",
    "two_yaxis(ax, df.year, df.renew_ene, df.co2, 'r', 'b', 'all countries')"
   ]
  },
  {
   "cell_type": "code",
   "execution_count": null,
   "metadata": {},
   "outputs": [],
   "source": [
    "#do subplot for every country\n",
    "fig = plt.figure(figsize=(16,13))\n",
    "ax_axis = fig.add_subplot(111)#big subplot for common axis label\n",
    "\n",
    "ax_axis.set_ylabel('renewable generation (TOE)', color='b')\n",
    "ax_axis.set_xlabel('Year')\n",
    "ax_axis.spines['top'].set_color('none')\n",
    "ax_axis.spines['bottom'].set_color('none')\n",
    "ax_axis.spines['left'].set_color('none')\n",
    "ax_axis.spines['right'].set_color('none')\n",
    "ax_axis.tick_params(labelcolor='w', top=False, bottom=False, left=False, right=False)\n",
    "\n",
    "\n",
    "ax_axis2 = ax_axis.twinx()\n",
    "ax_axis2.set_ylabel('CO2 per capita', color='r')\n",
    "ax_axis2.spines['top'].set_color('none')\n",
    "ax_axis2.spines['bottom'].set_color('none')\n",
    "ax_axis2.spines['left'].set_color('none')\n",
    "ax_axis2.spines['right'].set_color('none')\n",
    "ax_axis2.tick_params(labelcolor='w', top=False, bottom=False, left=False, right=False)\n",
    "\n",
    "fig.subplots_adjust(hspace=1, wspace=1)\n",
    "\n",
    "\n",
    "\n",
    "for i in range(len(renew_countries)):\n",
    "    temp = renewabledf[(renewabledf.country==renew_countries[i]) & (renewabledf.renew_typ=='Renewable energies')]\n",
    "    ax = fig.add_subplot(5,6,i+1)\n",
    "    two_yaxis(ax, temp.year, temp.renew_ene, temp.co2, 'b', 'r', renew_countries[i])\n",
    "\n",
    "\n",
    "\n",
    "\n",
    "\n",
    "\n",
    "# plt.show()"
   ]
  },
  {
   "cell_type": "code",
   "execution_count": null,
   "metadata": {},
   "outputs": [],
   "source": [
    "y_max = renewabledf.renew_ene.max()\n",
    "y_max"
   ]
  },
  {
   "cell_type": "code",
   "execution_count": null,
   "metadata": {},
   "outputs": [],
   "source": []
  }
 ],
 "metadata": {
  "kernelspec": {
   "display_name": "Python 3",
   "language": "python",
   "name": "python3"
  },
  "language_info": {
   "codemirror_mode": {
    "name": "ipython",
    "version": 3
   },
   "file_extension": ".py",
   "mimetype": "text/x-python",
   "name": "python",
   "nbconvert_exporter": "python",
   "pygments_lexer": "ipython3",
   "version": "3.6.8"
  }
 },
 "nbformat": 4,
 "nbformat_minor": 2
}
